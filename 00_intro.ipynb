{
  "nbformat": 4,
  "nbformat_minor": 0,
  "metadata": {
    "colab": {
      "name": "00_intro.ipynb",
      "provenance": [],
      "collapsed_sections": [],
      "mount_file_id": "1FMhBeucIwhuJiNM7vxanB6xUq8gvVW0t",
      "authorship_tag": "ABX9TyPtyJOFKluaWMzhP+QfSAaB",
      "include_colab_link": true
    },
    "kernelspec": {
      "name": "python3",
      "display_name": "Python 3"
    },
    "language_info": {
      "name": "python"
    }
  },
  "cells": [
    {
      "cell_type": "markdown",
      "metadata": {
        "id": "view-in-github",
        "colab_type": "text"
      },
      "source": [
        "<a href=\"https://colab.research.google.com/github/goisgit/ICE1051/blob/main/00_intro.ipynb\" target=\"_parent\"><img src=\"https://colab.research.google.com/assets/colab-badge.svg\" alt=\"Open In Colab\"/></a>"
      ]
    },
    {
      "cell_type": "markdown",
      "metadata": {
        "id": "7c5DO6OcW47V"
      },
      "source": [
        "# Aprendizado de Máquina para Ciências da Vida"
      ]
    },
    {
      "cell_type": "markdown",
      "metadata": {
        "id": "6FuCuCMLa32W"
      },
      "source": [
        "## "
      ]
    },
    {
      "cell_type": "code",
      "metadata": {
        "id": "8DzJhGnva1z8"
      },
      "source": [
        "M"
      ],
      "execution_count": null,
      "outputs": []
    },
    {
      "cell_type": "markdown",
      "metadata": {
        "id": "QaLaxFYvazSA"
      },
      "source": [
        ""
      ]
    }
  ]
}