{
  "nbformat": 4,
  "nbformat_minor": 0,
  "metadata": {
    "colab": {
      "name": "01_intro.ipynb",
      "provenance": [],
      "mount_file_id": "1FMhBeucIwhuJiNM7vxanB6xUq8gvVW0t",
      "authorship_tag": "ABX9TyPD6jzBG2oeHg1zRMP59+vn",
      "include_colab_link": true
    },
    "kernelspec": {
      "name": "python3",
      "display_name": "Python 3"
    },
    "language_info": {
      "name": "python"
    }
  },
  "cells": [
    {
      "cell_type": "markdown",
      "metadata": {
        "id": "view-in-github",
        "colab_type": "text"
      },
      "source": [
        "<a href=\"https://colab.research.google.com/github/goisgit/ICE1051/blob/main/01_intro.ipynb\" target=\"_parent\"><img src=\"https://colab.research.google.com/assets/colab-badge.svg\" alt=\"Open In Colab\"/></a>"
      ]
    },
    {
      "cell_type": "markdown",
      "metadata": {
        "id": "7c5DO6OcW47V"
      },
      "source": [
        "# Aprendizado de Máquina para Ciências da Vida"
      ]
    }
  ]
}